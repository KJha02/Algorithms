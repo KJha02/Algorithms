{
 "cells": [
  {
   "cell_type": "code",
   "execution_count": 8,
   "id": "1669007b",
   "metadata": {},
   "outputs": [],
   "source": [
    "from math import floor, ceil # used in select algorithm\n",
    "import numpy as np # used in test algorithm"
   ]
  },
  {
   "cell_type": "code",
   "execution_count": 9,
   "id": "343f933a",
   "metadata": {},
   "outputs": [],
   "source": [
    "def select(a, i, j, k):\n",
    "    n = j-i+1\n",
    "    if n < 20: # solve by brute force if n < 20\n",
    "        temp = a[i:j+1]\n",
    "        temp.sort()\n",
    "        return temp[k]\n",
    "    b = []\n",
    "    for s in range(i, j+1, 5):\n",
    "        if s+5 <= j+1: # only taking floor(n/5) blocks\n",
    "            temp = a[s:s+5]\n",
    "            temp.sort()\n",
    "            b.append(temp[2]) # compute median by brute force and append\n",
    "    x = select(b, 0, floor(n/5)-1, ceil(0.5*floor(n/5))-1) # x is the median of the block of medians\n",
    "    nLess, nGreater, nEqual = partition(a,i,j,x)\n",
    "    if k <= nLess:\n",
    "        return select(a, i, i+nLess-1, k) # answer is before our pivot\n",
    "    elif k <= nLess+nEqual: # answer is equal to our pivot\n",
    "        return x\n",
    "    else: # answer is after out pivot\n",
    "        return select(a, i+nLess+nEqual, j, k-nLess-nEqual)\n",
    "    \n",
    "# input: array, range to modify given start and end indices, pivot\n",
    "# output: modified array in place, returns tuple of (# less than, # greater than, # equal to) pivot\n",
    "def partition(a, i, j, x):\n",
    "    temp = []\n",
    "    nLess, nGreater, nEqual = 0,0,0\n",
    "    for ele in a[i:j+1]: # iterate through all elements in a range and determine \n",
    "        if ele < x:\n",
    "            nLess += 1 # number less than pivot\n",
    "        elif ele == x:\n",
    "            nEqual += 1 # number equal to pivot\n",
    "        else:\n",
    "            nGreater += 1 # number greater than pivot\n",
    "        temp.append(ele) # copy element to second array\n",
    "        \n",
    "    idxL = nLess - 1 + i # determine index to copy values less than pivot\n",
    "    idxE = nLess + nEqual + i - 1 # determine index to copy values equal to pivot\n",
    "    idxG = j # determine index to copy values greater than pivot\n",
    "    for ele in temp: # modify values of original array to be in correct position\n",
    "        if ele < x:\n",
    "            a[idxL] = ele\n",
    "            idxL -= 1\n",
    "        elif ele == x:\n",
    "            a[idxE] = ele\n",
    "            idxE -= 1\n",
    "        else:\n",
    "            a[idxG] = ele\n",
    "            idxG -= 1\n",
    "    return (nLess,nGreater,nEqual)"
   ]
  },
  {
   "cell_type": "code",
   "execution_count": 10,
   "id": "019a641f",
   "metadata": {},
   "outputs": [],
   "source": [
    "# input: number of randomly generated array, kth index in range of i and j, the lower limit index of array range,\n",
    "# the upper limit index of array range (inclusive), maxVal of each ele in array\n",
    "\n",
    "# output: the kth smallest number within a range for a randomly generated array\n",
    "def testSelect(numItems, k, i, j, maxVal = 100):\n",
    "    if i >= j or k < 1 or k > (j-i):\n",
    "        print(\"Please select a valid index range and k value.\")\n",
    "    elif (j-i) > numItems:\n",
    "        print(\"Please generate more numbers in the array or select a smaller range.\")\n",
    "    else:\n",
    "        ogK = k\n",
    "        k -= 1 # doing this because k is 1-indexed in pseudocode but 0 indexed in Python\n",
    "        arr = list(np.random.randint(maxVal,size=numItems))\n",
    "        print(\"\\nThe array being evaluated is:\", arr)\n",
    "        arrCop = [x for x in arr] # create copy of array for verification later\n",
    "        \n",
    "        print(\"-----\\nThe Median of Medians Approach:\")\n",
    "        kthSmall = select(arr, i, j, k)\n",
    "        print(\"The kth smallest number in the array from indices\", i, \"to\", j, \"(inclusive) =\", kthSmall, \n",
    "              \", when k =\", ogK)\n",
    "        \n",
    "        \n",
    "        print(\"-----\\nVerification through Brute Force:\\n\")\n",
    "        temp = arrCop[i:j+1]\n",
    "        print(\"The array from index\", i, \"to\", j, \"(inclusive) is:\", temp)\n",
    "        temp.sort()\n",
    "        print(\"\\nThe sorted array in this range is:\", temp)\n",
    "        print(\"\\nThus, the kth smallest number in this subarray =\", temp[k], \n",
    "              \", when k =\", ogK)"
   ]
  },
  {
   "cell_type": "code",
   "execution_count": 11,
   "id": "e2e9ab32",
   "metadata": {},
   "outputs": [
    {
     "name": "stdout",
     "output_type": "stream",
     "text": [
      "\n",
      "The array being evaluated is: [12, 1, 5, 12, 13, 13, 2, 13, 8, 9, 12, 7, 14, 0, 3, 1, 0, 2, 14, 1, 4, 9, 5, 9, 4, 2, 5, 5, 13, 14, 2, 1, 3, 1, 8, 12, 5, 10, 3, 6, 2, 5, 5, 6, 14, 0, 11, 3, 13, 9, 1, 11, 5, 4, 0, 1, 14, 13, 6, 3, 11, 5, 5, 8, 3, 14, 1, 13, 3, 2, 7, 8, 0, 5, 2, 14, 0, 8, 8, 4, 12, 8, 11, 11, 10, 11, 1, 4, 3, 9, 14, 9, 10, 14, 4, 10, 6, 11, 1, 10]\n",
      "-----\n",
      "The Median of Medians Approach:\n",
      "The kth smallest number in the array from indices 0 to 99 (inclusive) = 6 , when k = 50\n",
      "-----\n",
      "Verification through Brute Force:\n",
      "\n",
      "The array from index 0 to 99 (inclusive) is: [12, 1, 5, 12, 13, 13, 2, 13, 8, 9, 12, 7, 14, 0, 3, 1, 0, 2, 14, 1, 4, 9, 5, 9, 4, 2, 5, 5, 13, 14, 2, 1, 3, 1, 8, 12, 5, 10, 3, 6, 2, 5, 5, 6, 14, 0, 11, 3, 13, 9, 1, 11, 5, 4, 0, 1, 14, 13, 6, 3, 11, 5, 5, 8, 3, 14, 1, 13, 3, 2, 7, 8, 0, 5, 2, 14, 0, 8, 8, 4, 12, 8, 11, 11, 10, 11, 1, 4, 3, 9, 14, 9, 10, 14, 4, 10, 6, 11, 1, 10]\n",
      "\n",
      "The sorted array in this range is: [0, 0, 0, 0, 0, 0, 1, 1, 1, 1, 1, 1, 1, 1, 1, 1, 2, 2, 2, 2, 2, 2, 2, 3, 3, 3, 3, 3, 3, 3, 3, 4, 4, 4, 4, 4, 4, 5, 5, 5, 5, 5, 5, 5, 5, 5, 5, 5, 6, 6, 6, 6, 7, 7, 8, 8, 8, 8, 8, 8, 8, 9, 9, 9, 9, 9, 9, 10, 10, 10, 10, 10, 11, 11, 11, 11, 11, 11, 11, 12, 12, 12, 12, 12, 13, 13, 13, 13, 13, 13, 13, 14, 14, 14, 14, 14, 14, 14, 14, 14]\n",
      "\n",
      "Thus, the kth smallest number in this subarray = 6 , when k = 50\n"
     ]
    }
   ],
   "source": [
    "# case 1: 100 items, 50th smallest over entire array, max value is 15\n",
    "testSelect(100, 50, 0, 99, 15)"
   ]
  },
  {
   "cell_type": "code",
   "execution_count": 12,
   "id": "8356f380",
   "metadata": {},
   "outputs": [
    {
     "name": "stdout",
     "output_type": "stream",
     "text": [
      "\n",
      "The array being evaluated is: [153, 322, 338, 68, 90, 191, 215, 352, 359, 131, 275, 194, 376, 41, 20, 247, 141, 364, 44, 216, 284, 270, 325, 179, 295, 219, 205, 120, 170, 16]\n",
      "-----\n",
      "The Median of Medians Approach:\n",
      "The kth smallest number in the array from indices 7 to 28 (inclusive) = 295 , when k = 17\n",
      "-----\n",
      "Verification through Brute Force:\n",
      "\n",
      "The array from index 7 to 28 (inclusive) is: [352, 359, 131, 275, 194, 376, 41, 20, 247, 141, 364, 44, 216, 284, 270, 325, 179, 295, 219, 205, 120, 170]\n",
      "\n",
      "The sorted array in this range is: [20, 41, 44, 120, 131, 141, 170, 179, 194, 205, 216, 219, 247, 270, 275, 284, 295, 325, 352, 359, 364, 376]\n",
      "\n",
      "Thus, the kth smallest number in this subarray = 295 , when k = 17\n"
     ]
    }
   ],
   "source": [
    "# case 2: 30 items, 17th smallest over range of 7-28 (inclusive), max value is 395\n",
    "testSelect(30,17,7,28,395)"
   ]
  }
 ],
 "metadata": {
  "kernelspec": {
   "display_name": "Python 3 (ipykernel)",
   "language": "python",
   "name": "python3"
  },
  "language_info": {
   "codemirror_mode": {
    "name": "ipython",
    "version": 3
   },
   "file_extension": ".py",
   "mimetype": "text/x-python",
   "name": "python",
   "nbconvert_exporter": "python",
   "pygments_lexer": "ipython3",
   "version": "3.9.7"
  }
 },
 "nbformat": 4,
 "nbformat_minor": 5
}
