{
 "cells": [
  {
   "cell_type": "markdown",
   "id": "a0c6571c",
   "metadata": {},
   "source": [
    "# Homework 4\n",
    "#### By Kunal Jha"
   ]
  },
  {
   "cell_type": "markdown",
   "id": "36482366",
   "metadata": {},
   "source": [
    "## Question 2\n",
    "We are given the following algorithm to find and return the majority element in the array if one exists:"
   ]
  },
  {
   "cell_type": "code",
   "execution_count": 7,
   "id": "3a762f4d",
   "metadata": {},
   "outputs": [
    {
     "data": {
      "text/plain": [
       "majority (generic function with 2 methods)"
      ]
     },
     "execution_count": 7,
     "metadata": {},
     "output_type": "execute_result"
    }
   ],
   "source": [
    "# Pre-condition: n >= 1\n",
    "# Post-condition: returns (false, nothing) if a[1...n] has no majority element\n",
    "#                 returns (true, x) if x is the majority element of a[1...n]\n",
    "function majority(a::Array{Integer,1} , n::Integer) # array of integers a of size n\n",
    "    x = a[1]\n",
    "    c = 1\n",
    "    for i in 2:n\n",
    "        if a[i] == x\n",
    "            c = c + 1\n",
    "        elseif c > 0\n",
    "            c = c - 1\n",
    "        else\n",
    "            x = a[i]\n",
    "            c = 1\n",
    "        end\n",
    "    end\n",
    "    \n",
    "    m = 0\n",
    "    for j in 1:n # count number of occurences of c in a \n",
    "        if a[j] == x\n",
    "            m = m + 1\n",
    "        end\n",
    "    end\n",
    "    \n",
    "    if m > n / 2\n",
    "        return (true, x)\n",
    "    else\n",
    "        return (false, nothing)\n",
    "    end\n",
    "end"
   ]
  },
  {
   "cell_type": "markdown",
   "id": "832388f8",
   "metadata": {},
   "source": [
    "We are asked to verify the correctness of the algorithm"
   ]
  },
  {
   "cell_type": "markdown",
   "id": "36e6b444",
   "metadata": {},
   "source": [
    "## Proof for Question 2\n",
    "### Lemma 1 (The Loop-Invariant)\n",
    "At the start of each iteration of the for-loop in lines 3-10, the following statements are true:\n",
    "\n",
    "1. 2 $\\le$ *i* $\\le$ *i* + 1\n",
    "\n",
    "2. 0 $\\le$ *c* $\\le$ *num*(*x*, *i* - 1) $\\le$ *i* - 1\n",
    "\n",
    "3. *x* $\\in$ *a*[1 : *i*-1]\n",
    "\n",
    "4. 2*num*(*x*, *i* - 1) - (*i* - 1) $\\le$ *c*\n",
    "\n",
    "5. $\\forall$ *y* $\\in$ *a*[1 : *i* - 1]: *y* $\\neq$ *x* $\\implies$ (*i* - 1) - 2*num*(*y*, *i* - 1) $\\ge$ *c*"
   ]
  },
  {
   "cell_type": "markdown",
   "id": "bf2907f7",
   "metadata": {},
   "source": [
    "In more simple terms, the above invariant formalizes the idea that:\n",
    "For an array *a* at the *i*th iteration,\n",
    "\n",
    "1. c = 0 $\\implies$ $\\forall$ *y* $\\in$ *a*[1: i - 1]: *y* is not a majority\n",
    "\n",
    "2. c > 0 $\\implies$ $\\forall$ *y* $\\in$ *a'*[1: i - 1]: *y* is not a majority, \n",
    "    where *a'* = {array *a* - *c* elements of *x* in *a*}"
   ]
  },
  {
   "cell_type": "markdown",
   "id": "c82f4ca2",
   "metadata": {},
   "source": [
    "### Lemma 2 (Algorithm's correctness)\n",
    "The for-loop terminates at the start of the iteration when *i* = *n* + 1. Substituting *i* = *n* + 1, we have two cases:\n",
    "\n",
    "1. If c = 0, then we know that all of the elements in *a*[1 : n] are not a majority, since \n",
    "    Part (4) of the loop invariant says *num*(*x*, *n*) $\\le$ $\\frac{c + n}{2}$  = $\\frac{n}{2}$, and \n",
    "    Part (5) says $\\forall$ *y* $\\in$ *a*[1 : *n*]: *y* $\\neq$ *x* $\\implies$ $\\frac{n - c}{2}$ = $\\frac{n}{2}$ $\\ge$ *num*(*y*, *n*). Thus, the function will return (false, nothing), as no majority exists.\n",
    "\n",
    "2. If c > 0, then we know all of the elements in *a*[1 : n] that are not equal to x aren't a majority, since\n",
    "    Part (5) says $\\forall$ *y* $\\in$ *a*[1 : *n*]: *y* $\\neq$ *x* $\\implies$ $\\frac{n}{2}$ > $\\frac{n - c}{2}$ $\\ge$ num*(*y*, *n*). Thus, when we count the occurences of *x* in *a*[1 : n] and store it as the variable *m*, checking to see if *m* > *n*/2 will tell us whether or not a majority exists. If *m* > *n*/2, then *x* is a majority since it occurs at least *n*/2 times in the array, so (true, *x*) is returned. Otherwise, (false, nothing) is returned since *x* is not a majority element and we already proved the other elements distinct from x in the array *a*[1 : *n*] are not majorities.\n",
    "\n",
    "Hence, the post-condition is satisfied, and the algorithm's correctness is verified. $\\blacksquare$"
   ]
  },
  {
   "cell_type": "markdown",
   "id": "546df6ed",
   "metadata": {},
   "source": [
    "## Question 4\n",
    "We are asked to write a recursive program which finds and returns the local minimum in an $n \\times n$ array if one exists, and this program must run in *O(n)* time."
   ]
  },
  {
   "cell_type": "markdown",
   "id": "10745756",
   "metadata": {},
   "source": [
    "### Part 1: Pre/Post Conditions and Algorithm"
   ]
  },
  {
   "cell_type": "markdown",
   "id": "89168020",
   "metadata": {},
   "source": [
    "### Helper Methods"
   ]
  },
  {
   "cell_type": "code",
   "execution_count": 67,
   "id": "2fc0856e",
   "metadata": {},
   "outputs": [
    {
     "data": {
      "text/plain": [
       "findNext (generic function with 2 methods)"
      ]
     },
     "execution_count": 67,
     "metadata": {},
     "output_type": "execute_result"
    }
   ],
   "source": [
    "# Pre-condition: G must be an n x m matrix for some natural numbers n, m\n",
    "#                rIdx is a natural number such that 1 <= rIdx <= n\n",
    "#                p and q are natural numbers such that 1 <= p <= q <= m\n",
    "# Post-condition: (x, y) where x and y are natural numbers such that 1 <= x <= n, 1 <= y <= m, \n",
    "#                 G[x, y] is the smallest element in the rIdx'th row of G from range p:q columns\n",
    "function minRow(G::Array{Float64, 2}, p::Integer, q::Integer, rIdx::Integer)\n",
    "    min = G[rIdx, p]\n",
    "    minY = p\n",
    "    for i in p+1:q\n",
    "        if G[rIdx, i] < min\n",
    "            minY = i\n",
    "        end\n",
    "    return (rIdx, minY)\n",
    "    end\n",
    "end\n",
    "\n",
    "# Pre-condition: G must be an n x m matrix for some natural numbers n, m\n",
    "#                cIdx is a natural number such that 1 <= cIdx <= m\n",
    "#                p and q are natural numbers such that 1 <= p <= q <= n\n",
    "# Post-condition: (x, y) where x and y are natural numbers such that 1 <= x <= n, 1 <= y <= m, \n",
    "#                 G[x, y] is the smallest element in the cIdx'th column of G from range p:q rows\n",
    "function minCol(G::Array{Float64, 2}, p, q, cIdx::Integer)\n",
    "    min = G[p, cIdx]\n",
    "    minX = p\n",
    "    for i in p+1:q\n",
    "        if G[i, cIdx] < min\n",
    "            minX = i\n",
    "        end\n",
    "    return (minX, cIdx)\n",
    "    end\n",
    "end\n",
    "\n",
    "# Pre-condition: G must be an n x m matrix for some natural numbers n, m\n",
    "#                i,j,p,q are natural numbers such that 1 <= i <= j <= n, and 1 <= p <= q <= m\n",
    "# Post-condition: (x, y) where x and y are natural numbers such that 1 <= x <= n, 1 <= y <= m, \n",
    "#                 G[x, y] is the smallest element in the border surrounding the (j-i+1) x (q-p+1) sub-matrix\n",
    "function minBorder(G::Array{Float64, 2}, i, j, p, q)\n",
    "    minEle = G[i, p]\n",
    "    min = (i, p)\n",
    "    for idx in i+1:j # check top row\n",
    "        if G[idx, p] < minEle\n",
    "            minEle = G[idx, p]\n",
    "            min = (idx, p)\n",
    "        end\n",
    "    end\n",
    "    for idx2 in i:j # check bottom row\n",
    "        if G[idx2, q] < minEle\n",
    "            minEle = G[idx2, q]\n",
    "            min = (idx2, q)\n",
    "        end\n",
    "    end\n",
    "    for idx3 in p:q # check left column\n",
    "        if G[i, idx3] < minEle\n",
    "            minEle = G[i, idx3]\n",
    "            min = (i, idx3)\n",
    "        end\n",
    "    end\n",
    "    for idx4 in p:q # check right column\n",
    "        if G[j, idx4] < minEle\n",
    "            minEle = G[j, idx4]\n",
    "            min = (j, idx4)\n",
    "        end\n",
    "    end\n",
    "    return min # return min\n",
    "end\n",
    "\n",
    "# Pre-condition: G must be an n x n matrix for some natural numbers n\n",
    "#                i,j,p,q are natural numbers such that 1 <= i <= j <= n, and 1 <= p <= q <= n\n",
    "# Post-condition: (x, y) where x and y are natural numbers such that 1 <= x <= n, 1 <= y <= n\n",
    "#                 G[x, y] is the minimum value of \n",
    "#                 the minimum row element for the n/2'th row, the minimum column element for the n/2'th column,\n",
    "#                 and the minimum border element over the subarray\n",
    "function minOverall(G::Array{Float64, 2}, i, j, p, q)\n",
    "    med = (j-i+1)/2 + i\n",
    "    smallCol = minCol(G, i, j, med+i)\n",
    "    smallRow = minRow(G, p, q, med+p)\n",
    "    smallBorder = minBorder(G, i, j, p, q)\n",
    "    # compare the three quantities and return the smallest\n",
    "    if G[smallCol[1],smallCol[2]] < G[smallRow[1],smallRow[2]] && G[smallCol[1],smallCol[2]] < G[smallBorder[1],smallBorder[2]]\n",
    "        return smallCol\n",
    "    elseif G[smallRow[1],smallRow[2]] < G[smallCol[1],smallCol[2]] && G[smallRow[1],smallRow[2]] < G[smallBorder[1],smallBorder[2]]\n",
    "        return smallRow\n",
    "    else\n",
    "        return smallBorder\n",
    "    end\n",
    "end     \n",
    "\n",
    "# Pre-condition: G must be an n x m matrix for some natural numbers n, m, \n",
    "#                curr must be a tuple such that 1 <= curr[1] <= n, 1 <= curr[2] <= m\n",
    "# Post-condition: (x, y) where x and y are natural numbers such that 1 <= x <= n, 1 <= y <= m\n",
    "#                 G[x, y] is the smallest neighbor of G[curr[1], curr[2]]. \n",
    "#                 If G[curr[1], curr[2]] is smaller than all of its neighbors, curr is returned\n",
    "function findNext(G::Array{Float64, 2}, curr::Tuple{Int, Int})\n",
    "    x = curr[1]\n",
    "    y = curr[2]\n",
    "    \n",
    "    n = size(G,1) # number of rows in G\n",
    "    m = size(G,2) # number of columns in G\n",
    "    \n",
    "    lMin = G[x,y]\n",
    "    next = curr\n",
    "    if (x > 1) && (lMin > G[x-1,y]) # compare to left neighbor\n",
    "        lMin = G[x-1,y]\n",
    "        next = (x-1,y)\n",
    "    end\n",
    "    if (y > 1) && (lMin > G[x,y-1]) # compare to bottom neighbor\n",
    "        lMin = G[x,y-1]\n",
    "        next = (x,y-1)\n",
    "    end\n",
    "    if (x < n) && (lMin > G[x+1,y]) # compare to right neighbor\n",
    "        lMin = G[x+1,y]\n",
    "        next = (x+1,y)\n",
    "    end\n",
    "    if (y < m) && (lMin > G[x,y+1]) # compare to top neighbor\n",
    "        lMin = G[x,y+1]\n",
    "        next = (x,y+1)\n",
    "    end\n",
    "    return next # return next smallest\n",
    "end"
   ]
  },
  {
   "cell_type": "markdown",
   "id": "bd3c8148",
   "metadata": {},
   "source": [
    "### Main Method"
   ]
  },
  {
   "cell_type": "code",
   "execution_count": 66,
   "id": "6edfecc1",
   "metadata": {},
   "outputs": [
    {
     "data": {
      "text/plain": [
       "get_local_min (generic function with 1 method)"
      ]
     },
     "execution_count": 66,
     "metadata": {},
     "output_type": "execute_result"
    }
   ],
   "source": [
    "# Pre-condition: G is a n x n matrix with distinct numbers\n",
    "#                i,j,p,q are natural numbers such that 1 <= i <= j <= n, and 1 <= p <= q <= m\n",
    "# Post-condition: returns G[x, y], which is smaller than all of it's neighbors (it is a local min)\n",
    "#.                for some (x, y) where x and y are natural numbers such that 1 <= x <= n, 1 <= y <= n\n",
    "\n",
    "function find_local_min(G::Array{Float64, 2}, i, j, p, q)\n",
    "    minCand = minOverall(G, i, j, p, q) # find the minimum across the cross and border\n",
    "    next = findNext(G, minCand) # find the next smallest value given this\n",
    "    med = ((j - i + 1) / 2)\n",
    "    if minCand == next # if the current is already a local min, return that\n",
    "        return G[minCand[1], minCand[2]]\n",
    "    elseif (j - next[1]) > (next[1] - i)  # if the next is in the left half\n",
    "        if (q - next[2]) > (next[2] - p) # top quadrant\n",
    "            return find_local_min(G, i, i + med, p, p + med)\n",
    "        else # bottom quadrant\n",
    "            return find_local_min(G, i, i + med, p+med, q)\n",
    "        end\n",
    "    else # if the next is in the right half\n",
    "        if (q - next[2]) > (next[2] - p) # top quadrant\n",
    "            return find_local_min(G, i+med, j, p, p + med)\n",
    "        else # bottom quadrant\n",
    "            return find_local_min(G, i+med, j, p+med, q)\n",
    "        end\n",
    "    end\n",
    "end\n",
    "\n",
    "# Pre-condition: G is a n x n matrix with distinct numbers\n",
    "# Post-condition: (x, y) where x and y are natural numbers such that 1 <= x <= n, 1 <= y <= n\n",
    "#                 G[x, y] is smaller than all of it's neighbors (it is a local min)\n",
    "function get_local_min(G::Array{Float64, 2})\n",
    "    n = size(G,1) # number of rows/cols\n",
    "    return find_local_min(G, 1, n, 1, n) # start with whole array\n",
    "end"
   ]
  },
  {
   "cell_type": "markdown",
   "id": "ccb9b008",
   "metadata": {},
   "source": [
    "### Part 2: Proof of Method Correctness"
   ]
  },
  {
   "cell_type": "markdown",
   "id": "8081528a",
   "metadata": {},
   "source": [
    "#### Proving minRow function\n",
    "The loop invariant is that *p* + 1 $\\le$ i $\\le$ *q* + 1 and that *minY* is the column index of smallest element in the row\n",
    "*G*[*rIdx*, *p* : *i*-1]. It is also that *min* is the value of the smallest element in the row *G*[*rIdx*, *p* : *i*-1]. Substituting *i* = *q* + 1 into the second part of the loop invariant we see that *minY* is the smallest element in the row *G*[*rIdx*, *p* : *q*], which satisfies the post-condition when the method terminates and (*rIdx*, *minY*) is returned. Hence the claim. \n",
    "$\\blacksquare$\n",
    "\n",
    "#### Proving minCol function\n",
    "The loop invariant is that *p* + 1 $\\le$ i $\\le$ *q* + 1 and that *minX* is the row index of the smallest element in the column \n",
    "*G*[*p* : *i*-1, *cIdx*]. It is also that *min* is the value of the smallest element in the column *G*[*p* : *i*-1, *cIdx*]. Substituting *i* = *q* + 1 into the second part of the loop invariant we see that *minY* is the index of the smallest element in the row *G*[*p* : *q*, *cIdx*], which satisfies the post-condition when the method terminates and (*minX*, *cIdx*) is returned. Hence the claim. \n",
    "$\\blacksquare$\n",
    "\n",
    "#### Proving minBorder function\n",
    "The first loop's invariant is that *i* + 1 $\\le$ idx $\\le$ *j* + 1 and that *min* is the *row* and *col* indices of smallest element in the row\n",
    "*G*[*i*:*idx*-1, *p*]. It is also that *minEle* is the value of the smallest element in the row *G*[*rIdx*, *p* : *i*-1]. Substituting *i* = *j* + 1 into the second part of the loop invariant we see that *min* is the indices of the smallest element in the row *G*[*i*:*j*, *p*].\n",
    "\n",
    "The second loop's invariant is that *i* $\\le$ idx2 $\\le$ *j* + 1 and that *min* is the *row* and *col* indices of smallest element in the row\n",
    "*G*[*i*:*j*, *p*] and the row *G*[*i*:*idx2*-1, *q*]. It is also that *minEle* is the value of the smallest element in the rows *G*[*i*:*j*, *p*] and the row *G*[*i*:*idx2*-1, *q*]. Substituting *idx2* = *j* + 1 into the second part of the loop invariant we see that *min* is the indices of the smallest element in the row *G*[*i*:*j*, *p*] and the row *G*[*i*:*j*, *q*].\n",
    "\n",
    "The third loop's invariant is that *p* $\\le$ idx3 $\\le$ *q* + 1 and that *min* is the *row* and *col* indices of smallest element in the row\n",
    "*G*[*i*:*j*, *p*], the row *G*[*i*:*j*, *q*], and the column *G*[*i*, *p*:*idx3*-1]. It is also that *minEle* is the value of the smallest element in the row\n",
    "*G*[*i*:*j*, *p*], the row *G*[*i*:*j*, *q*], and the column *G*[*i*, *p*:*idx3*-1]. Substituting *idx3* = *q* + 1 into the second part of the loop invariant we see that *min* is the indices of the smallest element in the row\n",
    "*G*[*i*:*j*, *p*], the row *G*[*i*:*j*, *q*], and the column *G*[*i*, *p*:*q*]. \n",
    "\n",
    "The fourth loop's invariant is that *p* $\\le$ idx4 $\\le$ *q* + 1 and that *min* is the *row* and *col* indices of smallest element in the row\n",
    "*G*[*i*:*j*, *p*], the row *G*[*i*:*j*, *q*], the column *G*[*i*, *p*:*q*], and the column *G*[*j*, *p*:*idx4*-1]. It is also that *minEle* is the value of the smallest element in the row\n",
    "*G*[*i*:*j*, *p*], the row *G*[*i*:*j*, *q*], the column *G*[*i*, *p*:*q*], and the column *G*[*j*, *p*:*idx4*-1]. Substituting *idx4* = *q* + 1 into the second part of the loop invariant we see that *min* is the indices of the smallest element in the row\n",
    "*G*[*i*:*j*, *p*], the row *G*[*i*:*j*, *q*], the column *G*[*i*, *p*:*q*], and the column *G*[*j*, *p*:*q*].\n",
    "\n",
    "By the end of the fourth loop we have determiend the indices of the smallest item along the border of a matrix, which satisfies the post-condition when the loop terminates and *min* is returned. Hence the claim.\n",
    "$\\blacksquare$\n",
    "\n",
    "#### Proving minOverall function\n",
    "This function begins by calculating the midpoint of the array (number of elements / 2). It then uses this calculation to determine the smallest element in the middle column, the smallest element in the middle row, and the smallest element on the border. It does so by making calls to minCol, minRow, and minBorder respectively, which we know to work and return the correct answers due to the proofs above. Once It has obtained the indices for the smallest elements in each of the 3 aforementioned categories, it compares them with a simple series of if statements assessing the values of the indices in the matrix G. Once this comparison is done, the pair of indices which result in the lowest value in G are returned. This satisfies the post-condition when the comparisons are conducted and the indices with the minimum value are returned. Hence the claim.\n",
    "$\\blacksquare$\n",
    "\n",
    "#### Proving findNext function\n",
    "This function finds the next smallest neighbor of an element in the matrix G if one exists. It does so by checking each of the 4 neighbors in the matrix (if they exist within the matrix's dimensions) and seeing if it is less than the minimum. If a neighbor is less than the current minimum, that neighbor's indices are stored and that neighbor becomes the new minimum. We are essentially keeping a running minimum and iterating through the list of neighbors, updating the minimum if any neighbor is less than it. If none of the conditionals are executed, this means the current value is the local minimum, so it's indices are not updated and instead returned as is. Thus, the post-condition is satisfied when at most 4 conditional statements are passed through and terminates, returning the indices of the next smallest element in the matrix G. Hence the claim.\n",
    "$\\blacksquare$\n",
    "\n",
    "#### Proving find_local_min function\n",
    "Let *P(n)* be a predicate which says, \"If find_local_min(G,i,j,p,q) is called with *n* = *j* − *i* + 1 = *p* - *q* + 1  and the pre-condition of the method satisfied, then the method terminates and, when it terminates, the post-condition is satisfied.\n",
    "\n",
    "Claim: $\\forall$*n* $\\ge$ 1: *P(n)*\n",
    "\n",
    "Proof: By Induction\n",
    "* Base Case: Suppose the method is called with n = 1 and the pre-condition is satisfied. Then we know that in a $1 \\times 1$ matrix, the only element within the 2d array can be trivially called the local minimum. Thus, lines 1 and 2 result in the same set of indices, which line 5 returns. Hence, the base case holds.\n",
    "\n",
    "* Inductive Step: Let *k* $\\ge$ 1 be arbitrary and assume that *P*(1), *P*(2), ..., *P*(k −1) are true. Since line 1 determined *minCand*, the current smallest element between the middle row, middle column, and the border, and line 2 determined *next*, the smallest neighbor of the element found in line 1, we see 2 cases:\n",
    "    1. *next* = *minCand* : in this case, *minCand* is returned in line 5 since it is not adjacent to a smaller value, implying it is the local minimum.\n",
    "    2. *next* < *minCand* : in this case, we know that *next* lies in a $k/2 \\times k/2$ quadrant of G, such that if G was split into 4 even, distinct sections of these dimensions, *next* would be found in one of them. Because we know that *next* is smaller than an adjacent element found either at the cross-section of the middle of the matrix or along the border, we know that the quadrant it resides in must have a local minimum. You may be wondering where does this intuition come from? Well it derives from the realization that if there exists an element within a 2d array of distinct elements such that it is smaller than the minimum value of that array's border, that array will have a local minimum (because with any array of distinct elements, the existence of a pure minimum in that array implies the existance of a local minimum). Thus, the elseif and else statements isolate the specific $k/2 \\times k/2$ quadrant this adjacent point lies in and recurses on that, including the section of the original border and cross-section in the sub-matrix. We further boost our confidence of recursing on the correct sub-array by the observation that if the local minimum was in a separate sub-array, you would have to cross the middle column or middle row to access it. However, we have already picked the sub-matrix with the smallest bordering value and checked to make sure it wasn't a local minimum, so switching the border would be impossible.\n",
    "    Since we pass in a square matrix with valid indices to illustrate the submatrix being examined without creating copies of the original array, we have satisfied the pre-condition. By the inductive hypothesis, *P*($\\frac{k}{2}$) is true, so we know that when the program terminates, it will return the value of the local minimum in the matrix G of $k \\times k$ dimensions. Thus, we have satisfied the post-condition and shown *P*(k). \n",
    "\n",
    "Hence the inductive step is complete. \n",
    "\n",
    "The claim then follows from the principles of strong induction.\n",
    "$\\blacksquare$\n",
    "\n",
    "The *get_local_min* function is proved correctly because it simply makes a call to the *find_local_min* function and instantiates it's search area to include the entire matrix. I have not included this proof because it is trivially true under the same evidence as in the previous proof."
   ]
  },
  {
   "cell_type": "markdown",
   "id": "a207e473",
   "metadata": {},
   "source": [
    "### Part 3: Time Complexity Analysis\n",
    "\n",
    "The recurrence for the *find_local_min* function is *T*(n) $\\le$ *T*($\\frac{n}{2}$) + *O*(*n*), where *n* is the number of rows in an $n \\times n$ matrix. This is because as n approaches a sufficiently large quantity, the *minOverall* operation takes *O*(*n*) time, the *findNext* operation takes *O*(1) time, and you are recursing on a matrix of size $$\\frac{n}{2} \\times \\frac{n}{2}$$. \n",
    "\n",
    "We know that *minOverall* takes *O*(*n*) time because it calls the *minCol*, *minRow*, and *minBorder* functions. Since all of these operations do $\\Theta$(1) operations on a single for loops rather than nested ones, and each of these for loops are contingent on the size of n, we can say that all of them operate in *O*(*n*) time, so taking their results sequentially can also be done in *O*(*n*) time. \n",
    "\n",
    "*findNext* takes *O*(1) time since you are doing at most 4, $\\Theta$(1) operations. \n",
    "\n",
    "Rewriting the recurrence, we get *T*(n) $\\le$ *T*($\\frac{n}{2}$) + *an*, for some *a* > 0\n",
    "Now that we know the recurrence for the *find_local_min* function, we use the Master Method to see that\n",
    "\n",
    "$n^k$ = $n^.01$ $\\le$ *an*, where *k* = log<sub>2</sub>1 + 0.01, and *a* = 1\n",
    "\n",
    "Moreover, we see that\n",
    "\n",
    "$\\frac{n}{2}$ $\\le$ *cn*, if *c* = 1\n",
    "\n",
    "Since we have shown $n^k$ = $\\le$ *dn*, where *k* = log<sub>b</sub>a + e, such that *a* = 1, *b* = 2, for some *d* > 0, *e* > 0, as well as the regularity condition *af*($\\frac{n}{b}$) $\\le$ *df*(*n*), for some *d* > 0, case 3 of the Master Method applies and \n",
    "\n",
    "*T*(n) = *O*(*n*)\n",
    "$\\blacksquare$"
   ]
  }
 ],
 "metadata": {
  "kernelspec": {
   "display_name": "Julia 1.7.1",
   "language": "julia",
   "name": "julia-1.7"
  },
  "language_info": {
   "file_extension": ".jl",
   "mimetype": "application/julia",
   "name": "julia",
   "version": "1.7.1"
  }
 },
 "nbformat": 4,
 "nbformat_minor": 5
}
